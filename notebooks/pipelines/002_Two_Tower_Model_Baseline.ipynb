{
 "cells": [
  {
   "cell_type": "markdown",
   "id": "c83805a6-4435-42e4-8e60-fa39abd0dfd1",
   "metadata": {},
   "source": [
    "# Introduction\n",
    "\n",
    "Baseline two-staged models\n",
    "\n",
    "- CV (1 fold for now)\n",
    "    - Train for I stage models (2 weeks)\n",
    "    - Train for II stage models, valid for II stage model (2 weeks)\n",
    "    - Test for I and II stage models.\n",
    "- Take all products, repeats too.\n",
    "\n",
    "Choice of models:\n",
    "- I stage models\n",
    "    - Popularity\n",
    "    - Buy together - ItemKNN for interaction matrix.\n",
    "    - Have touch in any possible way.\n",
    "- II stage model\n",
    "    - User - item interaction features.\n",
    " \n",
    "Expected results:\n",
    "\n",
    "USER_ID, ITEM_ID, features of interactions, scores of I stage models.\n",
    " \n",
    "### Imports"
   ]
  },
  {
   "cell_type": "code",
   "execution_count": 1,
   "id": "f75f2eb7-2b8d-4abd-a6b9-477215d7ead4",
   "metadata": {},
   "outputs": [],
   "source": [
    "import git\n",
    "root = git.Repo('.', search_parent_directories=True).working_dir \n",
    "\n",
    "import polars as pl\n",
    "\n",
    "import seaborn as sns"
   ]
  },
  {
   "cell_type": "markdown",
   "id": "b93d2a6d-4ae7-4ee1-948d-ee51238a8095",
   "metadata": {},
   "source": [
    "# Data Loading"
   ]
  },
  {
   "cell_type": "code",
   "execution_count": 2,
   "id": "e5b0a5f9-f633-4afa-9367-af7ea5d0a705",
   "metadata": {},
   "outputs": [],
   "source": [
    "tracker = pl.scan_parquet(f'{root}/data/tracker')\n",
    "order = pl.scan_parquet(f'{root}/data/orders')\n",
    "test_df = pl.scan_parquet(f'{root}/data/test/')"
   ]
  },
  {
   "cell_type": "markdown",
   "id": "af59a4c4-5d4e-41ac-86cc-d972768c5d0b",
   "metadata": {},
   "source": [
    "# Date Split"
   ]
  },
  {
   "cell_type": "code",
   "execution_count": 3,
   "id": "541d0623-e6a0-42e2-9005-eb61d5ccdc44",
   "metadata": {},
   "outputs": [],
   "source": [
    "first_stage_start, first_stage_end = pl.datetime(2025, 5, 1), pl.datetime(2025, 5, 14)\n",
    "second_stage_start, second_stage_end = pl.datetime(2025, 5, 15), pl.datetime(2025, 5, 28)\n",
    "test_stage_start, test_stage_end = pl.datetime(2025, 5, 28), pl.datetime(2025, 6, 11)"
   ]
  },
  {
   "cell_type": "markdown",
   "id": "9b760ce3-8c14-4d00-a600-d0d6d7669eb5",
   "metadata": {},
   "source": [
    "# Second Stage Models Features"
   ]
  },
  {
   "cell_type": "code",
   "execution_count": 4,
   "id": "a15411d9-5ae9-4450-bef1-6aaa20972393",
   "metadata": {},
   "outputs": [
    {
     "data": {
      "text/plain": [
       "Schema([('user_id', Int32), ('item_id', Int32), ('action_type', String)])"
      ]
     },
     "execution_count": 4,
     "metadata": {},
     "output_type": "execute_result"
    }
   ],
   "source": [
    "first_order = (\n",
    "    order\n",
    "    .filter(\n",
    "        pl.col('last_status_timestamp').is_between(first_stage_start, first_stage_end)\n",
    "    )\n",
    "    .select('user_id', 'item_id', 'last_status')\n",
    "    .rename({'last_status': 'action_type'})\n",
    ")\n",
    "\n",
    "first_tracker = (\n",
    "    tracker\n",
    "    .filter(\n",
    "        pl.col('timestamp').is_between(first_stage_start, first_stage_end)\n",
    "    )\n",
    "    .select('user_id', 'item_id', 'action_type')\n",
    ")\n",
    "\n",
    "first_df = pl.concat([first_tracker, first_order])\n",
    "first_df.collect_schema()"
   ]
  },
  {
   "cell_type": "code",
   "execution_count": 5,
   "id": "82e97a8c-b730-4dbc-a315-9392d190f303",
   "metadata": {},
   "outputs": [
    {
     "data": {
      "text/plain": [
       "array(['to_cart', 'canceled_orders', 'delivered_orders',\n",
       "       'view_description', 'proccesed_orders', 'unfavorite', 'favorite',\n",
       "       'remove', 'review_view', 'page_view'], dtype=object)"
      ]
     },
     "execution_count": 5,
     "metadata": {},
     "output_type": "execute_result"
    }
   ],
   "source": [
    "action_types = first_df.select('action_type').unique().collect().to_numpy().squeeze()\n",
    "action_types"
   ]
  },
  {
   "cell_type": "code",
   "execution_count": 6,
   "id": "6a0811dd-cea3-4e48-a1be-186856764ded",
   "metadata": {},
   "outputs": [
    {
     "name": "stdout",
     "output_type": "stream",
     "text": [
      "(64026910, 12)\n"
     ]
    },
    {
     "data": {
      "text/html": [
       "<div><style>\n",
       ".dataframe > thead > tr,\n",
       ".dataframe > tbody > tr {\n",
       "  text-align: right;\n",
       "  white-space: pre-wrap;\n",
       "}\n",
       "</style>\n",
       "<small>shape: (5, 12)</small><table border=\"1\" class=\"dataframe\"><thead><tr><th>user_id</th><th>item_id</th><th>to_cart</th><th>canceled_orders</th><th>delivered_orders</th><th>view_description</th><th>proccesed_orders</th><th>unfavorite</th><th>favorite</th><th>remove</th><th>review_view</th><th>page_view</th></tr><tr><td>i32</td><td>i32</td><td>i16</td><td>i16</td><td>i16</td><td>i16</td><td>i16</td><td>i16</td><td>i16</td><td>i16</td><td>i16</td><td>i16</td></tr></thead><tbody><tr><td>1282500</td><td>84819114</td><td>0</td><td>0</td><td>0</td><td>0</td><td>0</td><td>0</td><td>0</td><td>0</td><td>0</td><td>1</td></tr><tr><td>136091</td><td>106767407</td><td>0</td><td>0</td><td>0</td><td>0</td><td>0</td><td>0</td><td>0</td><td>0</td><td>0</td><td>1</td></tr><tr><td>3706501</td><td>168219970</td><td>0</td><td>0</td><td>0</td><td>0</td><td>0</td><td>0</td><td>0</td><td>0</td><td>0</td><td>2</td></tr><tr><td>4740861</td><td>161537459</td><td>0</td><td>0</td><td>0</td><td>0</td><td>0</td><td>0</td><td>0</td><td>0</td><td>0</td><td>1</td></tr><tr><td>4440800</td><td>183835221</td><td>0</td><td>0</td><td>0</td><td>0</td><td>0</td><td>1</td><td>0</td><td>0</td><td>0</td><td>1</td></tr></tbody></table></div>"
      ],
      "text/plain": [
       "shape: (5, 12)\n",
       "┌─────────┬───────────┬─────────┬────────────────┬───┬──────────┬────────┬─────────────┬───────────┐\n",
       "│ user_id ┆ item_id   ┆ to_cart ┆ canceled_order ┆ … ┆ favorite ┆ remove ┆ review_view ┆ page_view │\n",
       "│ ---     ┆ ---       ┆ ---     ┆ s              ┆   ┆ ---      ┆ ---    ┆ ---         ┆ ---       │\n",
       "│ i32     ┆ i32       ┆ i16     ┆ ---            ┆   ┆ i16      ┆ i16    ┆ i16         ┆ i16       │\n",
       "│         ┆           ┆         ┆ i16            ┆   ┆          ┆        ┆             ┆           │\n",
       "╞═════════╪═══════════╪═════════╪════════════════╪═══╪══════════╪════════╪═════════════╪═══════════╡\n",
       "│ 1282500 ┆ 84819114  ┆ 0       ┆ 0              ┆ … ┆ 0        ┆ 0      ┆ 0           ┆ 1         │\n",
       "│ 136091  ┆ 106767407 ┆ 0       ┆ 0              ┆ … ┆ 0        ┆ 0      ┆ 0           ┆ 1         │\n",
       "│ 3706501 ┆ 168219970 ┆ 0       ┆ 0              ┆ … ┆ 0        ┆ 0      ┆ 0           ┆ 2         │\n",
       "│ 4740861 ┆ 161537459 ┆ 0       ┆ 0              ┆ … ┆ 0        ┆ 0      ┆ 0           ┆ 1         │\n",
       "│ 4440800 ┆ 183835221 ┆ 0       ┆ 0              ┆ … ┆ 0        ┆ 0      ┆ 0           ┆ 1         │\n",
       "└─────────┴───────────┴─────────┴────────────────┴───┴──────────┴────────┴─────────────┴───────────┘"
      ]
     },
     "execution_count": 6,
     "metadata": {},
     "output_type": "execute_result"
    }
   ],
   "source": [
    "action_counts = [\n",
    "    pl.col(\"action_type\")\n",
    "    .filter(pl.col(\"action_type\") == at)\n",
    "    .count()\n",
    "    .alias(at)\n",
    "    .cast(pl.Int16)\n",
    "    for at in action_types\n",
    "]\n",
    "\n",
    "features = (\n",
    "    first_tracker\n",
    "    .group_by([\"user_id\", \"item_id\"])\n",
    "    .agg(*action_counts)\n",
    ")\n",
    "\n",
    "features = features.collect()\n",
    "\n",
    "print(features.shape)\n",
    "features.head()"
   ]
  },
  {
   "cell_type": "markdown",
   "id": "e4241403-aaba-46e0-b0c6-4bba82e8ba8c",
   "metadata": {},
   "source": [
    "# I Stage model - touch with item_id"
   ]
  },
  {
   "cell_type": "code",
   "execution_count": 7,
   "id": "cd7b2030-1d49-4318-af54-51034d7921e7",
   "metadata": {},
   "outputs": [],
   "source": [
    "def get_count_of_recommendations(df):\n",
    "\n",
    "    n_products = df.group_by('user_id').agg(pl.len()).select(pl.col('len').alias('n_products')).to_pandas()\n",
    "    return n_products.value_counts().sort_index()"
   ]
  },
  {
   "cell_type": "code",
   "execution_count": 8,
   "id": "154655b3-1b58-4824-870d-49008a56f529",
   "metadata": {},
   "outputs": [
    {
     "data": {
      "text/plain": [
       "n_products\n",
       "1             46343\n",
       "2             32759\n",
       "3             26804\n",
       "4             23341\n",
       "5             20745\n",
       "              ...  \n",
       "5732              1\n",
       "5793              1\n",
       "5881              1\n",
       "6175              1\n",
       "6242              1\n",
       "Name: count, Length: 1914, dtype: int64"
      ]
     },
     "execution_count": 8,
     "metadata": {},
     "output_type": "execute_result"
    }
   ],
   "source": [
    "touch_first_stage = features.select(['user_id', 'item_id'])\n",
    "get_count_of_recommendations(touch_first_stage)"
   ]
  },
  {
   "cell_type": "code",
   "execution_count": 9,
   "id": "c49922c4-ad0b-49f3-82fa-acf82bf22b15",
   "metadata": {},
   "outputs": [
    {
     "data": {
      "text/plain": [
       "n_products\n",
       "1              46343\n",
       "2              32759\n",
       "3              26804\n",
       "4              23341\n",
       "5              20745\n",
       "               ...  \n",
       "96              1828\n",
       "97              1871\n",
       "98              1828\n",
       "99              1788\n",
       "100           184917\n",
       "Name: count, Length: 100, dtype: int64"
      ]
     },
     "execution_count": 9,
     "metadata": {},
     "output_type": "execute_result"
    }
   ],
   "source": [
    "touch_first_stage = touch_first_stage.group_by('user_id').head(100)\n",
    "get_count_of_recommendations(touch_first_stage)"
   ]
  },
  {
   "cell_type": "code",
   "execution_count": 10,
   "id": "28774b2d-e34e-4fd6-8cf8-bd3c6e7fb175",
   "metadata": {},
   "outputs": [
    {
     "data": {
      "text/plain": [
       "(36378765, 2)"
      ]
     },
     "execution_count": 10,
     "metadata": {},
     "output_type": "execute_result"
    }
   ],
   "source": [
    "touch_first_stage.shape"
   ]
  },
  {
   "cell_type": "markdown",
   "id": "f9bebeb2-42b2-4a08-9f8f-e22c8f4bf336",
   "metadata": {},
   "source": [
    "- Limit number of combinations per user at random"
   ]
  },
  {
   "cell_type": "markdown",
   "id": "d2b85b9a-a4c0-4650-8e06-5fceacb18a16",
   "metadata": {},
   "source": [
    "# I stage model - popular products"
   ]
  },
  {
   "cell_type": "code",
   "execution_count": 11,
   "id": "20f9371e-9813-43af-b0a9-3846df19cf3a",
   "metadata": {},
   "outputs": [],
   "source": [
    "popular_first_stage = (\n",
    "    first_order\n",
    "    .group_by('item_id')\n",
    "    .agg(pl.len())\n",
    "    .sort('len', descending=False)\n",
    "    .head(10)\n",
    "    .select('item_id')\n",
    "    .collect()\n",
    ")"
   ]
  },
  {
   "cell_type": "code",
   "execution_count": 12,
   "id": "a06255bc-e22a-4e64-a272-b026faa6617a",
   "metadata": {},
   "outputs": [
    {
     "data": {
      "text/html": [
       "<div><style>\n",
       ".dataframe > thead > tr,\n",
       ".dataframe > tbody > tr {\n",
       "  text-align: right;\n",
       "  white-space: pre-wrap;\n",
       "}\n",
       "</style>\n",
       "<small>shape: (1, 1)</small><table border=\"1\" class=\"dataframe\"><thead><tr><th>is_popular</th></tr><tr><td>f64</td></tr></thead><tbody><tr><td>0.000004</td></tr></tbody></table></div>"
      ],
      "text/plain": [
       "shape: (1, 1)\n",
       "┌────────────┐\n",
       "│ is_popular │\n",
       "│ ---        │\n",
       "│ f64        │\n",
       "╞════════════╡\n",
       "│ 0.000004   │\n",
       "└────────────┘"
      ]
     },
     "execution_count": 12,
     "metadata": {},
     "output_type": "execute_result"
    }
   ],
   "source": [
    "(\n",
    "    touch_first_stage\n",
    "    .with_columns(\n",
    "        pl.col('item_id').is_in(popular_first_stage.to_numpy().squeeze()).alias('is_popular')\n",
    "    )\n",
    "    .select('is_popular')\n",
    "    .mean()\n",
    ")"
   ]
  },
  {
   "cell_type": "markdown",
   "id": "2cfcc216-6a1f-439a-b1a2-8041789ea2ee",
   "metadata": {},
   "source": [
    "- Popular ordered products have small intersection with user-specific actions"
   ]
  },
  {
   "cell_type": "markdown",
   "id": "2cba0dd7-0627-4a60-9653-1657f2f47f3d",
   "metadata": {},
   "source": [
    "# I Stage Model validation"
   ]
  },
  {
   "cell_type": "code",
   "execution_count": 13,
   "id": "102e8723-5bcc-4e6b-94b2-0ce8a8320e8d",
   "metadata": {},
   "outputs": [
    {
     "name": "stdout",
     "output_type": "stream",
     "text": [
      "(867715, 3)\n"
     ]
    },
    {
     "data": {
      "text/html": [
       "<div><style>\n",
       ".dataframe > thead > tr,\n",
       ".dataframe > tbody > tr {\n",
       "  text-align: right;\n",
       "  white-space: pre-wrap;\n",
       "}\n",
       "</style>\n",
       "<small>shape: (5, 3)</small><table border=\"1\" class=\"dataframe\"><thead><tr><th>user_id</th><th>item_id</th><th>selected</th></tr><tr><td>i32</td><td>i32</td><td>i32</td></tr></thead><tbody><tr><td>3470100</td><td>119241</td><td>1</td></tr><tr><td>3612281</td><td>319008</td><td>1</td></tr><tr><td>2592401</td><td>602129</td><td>1</td></tr><tr><td>1622171</td><td>1127352</td><td>1</td></tr><tr><td>1434171</td><td>1196268</td><td>1</td></tr></tbody></table></div>"
      ],
      "text/plain": [
       "shape: (5, 3)\n",
       "┌─────────┬─────────┬──────────┐\n",
       "│ user_id ┆ item_id ┆ selected │\n",
       "│ ---     ┆ ---     ┆ ---      │\n",
       "│ i32     ┆ i32     ┆ i32      │\n",
       "╞═════════╪═════════╪══════════╡\n",
       "│ 3470100 ┆ 119241  ┆ 1        │\n",
       "│ 3612281 ┆ 319008  ┆ 1        │\n",
       "│ 2592401 ┆ 602129  ┆ 1        │\n",
       "│ 1622171 ┆ 1127352 ┆ 1        │\n",
       "│ 1434171 ┆ 1196268 ┆ 1        │\n",
       "└─────────┴─────────┴──────────┘"
      ]
     },
     "execution_count": 13,
     "metadata": {},
     "output_type": "execute_result"
    }
   ],
   "source": [
    "second_order = (\n",
    "    order\n",
    "    .filter(\n",
    "        pl.col('last_status_timestamp').is_between(second_stage_start, second_stage_end) &\n",
    "        ~pl.col('last_status').is_in(['canceled_orders'])\n",
    "    )\n",
    "    .select('user_id', 'item_id', pl.lit(1).alias('selected'))\n",
    "    .collect()\n",
    ")\n",
    "\n",
    "print(second_order.shape)\n",
    "second_order.head()"
   ]
  },
  {
   "cell_type": "code",
   "execution_count": 14,
   "id": "18530994-11ee-4987-9b14-4f0f69208dc5",
   "metadata": {},
   "outputs": [
    {
     "name": "stdout",
     "output_type": "stream",
     "text": [
      "(22897557, 3)\n"
     ]
    },
    {
     "data": {
      "text/html": [
       "<div><style>\n",
       ".dataframe > thead > tr,\n",
       ".dataframe > tbody > tr {\n",
       "  text-align: right;\n",
       "  white-space: pre-wrap;\n",
       "}\n",
       "</style>\n",
       "<small>shape: (22_897_557, 3)</small><table border=\"1\" class=\"dataframe\"><thead><tr><th>user_id</th><th>item_id</th><th>is_candidate</th></tr><tr><td>i32</td><td>i32</td><td>i32</td></tr></thead><tbody><tr><td>2557850</td><td>62458138</td><td>1</td></tr><tr><td>1846410</td><td>197829721</td><td>1</td></tr><tr><td>795780</td><td>107991452</td><td>1</td></tr><tr><td>4994531</td><td>259270796</td><td>1</td></tr><tr><td>172850</td><td>320163036</td><td>1</td></tr><tr><td>&hellip;</td><td>&hellip;</td><td>&hellip;</td></tr><tr><td>4883910</td><td>329437519</td><td>1</td></tr><tr><td>2730730</td><td>137410047</td><td>1</td></tr><tr><td>1438631</td><td>283152300</td><td>1</td></tr><tr><td>268920</td><td>211568357</td><td>1</td></tr><tr><td>4586170</td><td>160237885</td><td>1</td></tr></tbody></table></div>"
      ],
      "text/plain": [
       "shape: (22_897_557, 3)\n",
       "┌─────────┬───────────┬──────────────┐\n",
       "│ user_id ┆ item_id   ┆ is_candidate │\n",
       "│ ---     ┆ ---       ┆ ---          │\n",
       "│ i32     ┆ i32       ┆ i32          │\n",
       "╞═════════╪═══════════╪══════════════╡\n",
       "│ 2557850 ┆ 62458138  ┆ 1            │\n",
       "│ 1846410 ┆ 197829721 ┆ 1            │\n",
       "│ 795780  ┆ 107991452 ┆ 1            │\n",
       "│ 4994531 ┆ 259270796 ┆ 1            │\n",
       "│ 172850  ┆ 320163036 ┆ 1            │\n",
       "│ …       ┆ …         ┆ …            │\n",
       "│ 4883910 ┆ 329437519 ┆ 1            │\n",
       "│ 2730730 ┆ 137410047 ┆ 1            │\n",
       "│ 1438631 ┆ 283152300 ┆ 1            │\n",
       "│ 268920  ┆ 211568357 ┆ 1            │\n",
       "│ 4586170 ┆ 160237885 ┆ 1            │\n",
       "└─────────┴───────────┴──────────────┘"
      ]
     },
     "execution_count": 14,
     "metadata": {},
     "output_type": "execute_result"
    }
   ],
   "source": [
    "second_candidates = pl.concat([\n",
    "    second_order.select('user_id').unique().join(touch_first_stage, how='inner', on='user_id'),\n",
    "    second_order.select('user_id').unique().join(popular_first_stage, how='cross')\n",
    "]).unique().with_columns(pl.lit(1).alias('is_candidate'))\n",
    "\n",
    "print(second_candidates.shape)\n",
    "\n",
    "second_candidates"
   ]
  },
  {
   "cell_type": "code",
   "execution_count": 15,
   "id": "d179a61c-1e3e-4541-a3aa-4a3251f443e4",
   "metadata": {},
   "outputs": [
    {
     "data": {
      "text/html": [
       "<div><style>\n",
       ".dataframe > thead > tr,\n",
       ".dataframe > tbody > tr {\n",
       "  text-align: right;\n",
       "  white-space: pre-wrap;\n",
       "}\n",
       "</style>\n",
       "<small>shape: (5, 4)</small><table border=\"1\" class=\"dataframe\"><thead><tr><th>user_id</th><th>item_id</th><th>selected</th><th>is_candidate</th></tr><tr><td>i32</td><td>i32</td><td>i32</td><td>i32</td></tr></thead><tbody><tr><td>3470100</td><td>119241</td><td>1</td><td>0</td></tr><tr><td>3612281</td><td>319008</td><td>1</td><td>0</td></tr><tr><td>2592401</td><td>602129</td><td>1</td><td>0</td></tr><tr><td>1622171</td><td>1127352</td><td>1</td><td>0</td></tr><tr><td>1434171</td><td>1196268</td><td>1</td><td>1</td></tr></tbody></table></div>"
      ],
      "text/plain": [
       "shape: (5, 4)\n",
       "┌─────────┬─────────┬──────────┬──────────────┐\n",
       "│ user_id ┆ item_id ┆ selected ┆ is_candidate │\n",
       "│ ---     ┆ ---     ┆ ---      ┆ ---          │\n",
       "│ i32     ┆ i32     ┆ i32      ┆ i32          │\n",
       "╞═════════╪═════════╪══════════╪══════════════╡\n",
       "│ 3470100 ┆ 119241  ┆ 1        ┆ 0            │\n",
       "│ 3612281 ┆ 319008  ┆ 1        ┆ 0            │\n",
       "│ 2592401 ┆ 602129  ┆ 1        ┆ 0            │\n",
       "│ 1622171 ┆ 1127352 ┆ 1        ┆ 0            │\n",
       "│ 1434171 ┆ 1196268 ┆ 1        ┆ 1            │\n",
       "└─────────┴─────────┴──────────┴──────────────┘"
      ]
     },
     "execution_count": 15,
     "metadata": {},
     "output_type": "execute_result"
    }
   ],
   "source": [
    "first_recall = second_order.join(second_candidates, how='left', on=['user_id', 'item_id']).fill_null(0)\n",
    "\n",
    "first_recall.head(5)"
   ]
  },
  {
   "cell_type": "code",
   "execution_count": 16,
   "id": "05209302-b9c3-42b5-a61c-1dafbaebb100",
   "metadata": {},
   "outputs": [
    {
     "data": {
      "text/html": [
       "<div><style>\n",
       ".dataframe > thead > tr,\n",
       ".dataframe > tbody > tr {\n",
       "  text-align: right;\n",
       "  white-space: pre-wrap;\n",
       "}\n",
       "</style>\n",
       "<small>shape: (1, 1)</small><table border=\"1\" class=\"dataframe\"><thead><tr><th>is_candidate</th></tr><tr><td>f64</td></tr></thead><tbody><tr><td>0.24557</td></tr></tbody></table></div>"
      ],
      "text/plain": [
       "shape: (1, 1)\n",
       "┌──────────────┐\n",
       "│ is_candidate │\n",
       "│ ---          │\n",
       "│ f64          │\n",
       "╞══════════════╡\n",
       "│ 0.24557      │\n",
       "└──────────────┘"
      ]
     },
     "execution_count": 16,
     "metadata": {},
     "output_type": "execute_result"
    }
   ],
   "source": [
    "first_recall.select(pl.mean('is_candidate'))"
   ]
  },
  {
   "cell_type": "markdown",
   "id": "70669b08-0647-4de5-8769-166e690f9a99",
   "metadata": {},
   "source": [
    "- Popular product give no gain over item_ids with some user_action"
   ]
  },
  {
   "cell_type": "code",
   "execution_count": 17,
   "id": "4133c783-4bc5-4f74-810f-4d12dd1b58a8",
   "metadata": {},
   "outputs": [
    {
     "data": {
      "text/plain": [
       "<Axes: xlabel='is_candidate', ylabel='Count'>"
      ]
     },
     "execution_count": 17,
     "metadata": {},
     "output_type": "execute_result"
    },
    {
     "data": {
      "image/png": "[encoded data removed]",
      "text/plain": [
       "<Figure size 640x480 with 1 Axes>"
      ]
     },
     "metadata": {},
     "output_type": "display_data"
    }
   ],
   "source": [
    "is_candidate = first_recall.group_by('user_id').agg(pl.mean('is_candidate')).select('is_candidate').to_pandas()\n",
    "sns.histplot(is_candidate['is_candidate'], binwidth=0.05)"
   ]
  },
  {
   "cell_type": "markdown",
   "id": "1c5289a6-4b96-494f-bbae-12512ccd5f10",
   "metadata": {},
   "source": [
    "# II Stage Model Learning"
   ]
  },
  {
   "cell_type": "code",
   "execution_count": 18,
   "id": "9c7fbaeb-aa01-47a7-b9df-e67763a5be7f",
   "metadata": {},
   "outputs": [
    {
     "data": {
      "text/html": [
       "<div><style>\n",
       ".dataframe > thead > tr,\n",
       ".dataframe > tbody > tr {\n",
       "  text-align: right;\n",
       "  white-space: pre-wrap;\n",
       "}\n",
       "</style>\n",
       "<small>shape: (5, 3)</small><table border=\"1\" class=\"dataframe\"><thead><tr><th>user_id</th><th>item_id</th><th>selected</th></tr><tr><td>i32</td><td>i32</td><td>i32</td></tr></thead><tbody><tr><td>2557850</td><td>62458138</td><td>0</td></tr><tr><td>1846410</td><td>197829721</td><td>0</td></tr><tr><td>172850</td><td>320163036</td><td>0</td></tr><tr><td>4074520</td><td>98207412</td><td>0</td></tr><tr><td>3133631</td><td>163204063</td><td>0</td></tr></tbody></table></div>"
      ],
      "text/plain": [
       "shape: (5, 3)\n",
       "┌─────────┬───────────┬──────────┐\n",
       "│ user_id ┆ item_id   ┆ selected │\n",
       "│ ---     ┆ ---       ┆ ---      │\n",
       "│ i32     ┆ i32       ┆ i32      │\n",
       "╞═════════╪═══════════╪══════════╡\n",
       "│ 2557850 ┆ 62458138  ┆ 0        │\n",
       "│ 1846410 ┆ 197829721 ┆ 0        │\n",
       "│ 172850  ┆ 320163036 ┆ 0        │\n",
       "│ 4074520 ┆ 98207412  ┆ 0        │\n",
       "│ 3133631 ┆ 163204063 ┆ 0        │\n",
       "└─────────┴───────────┴──────────┘"
      ]
     },
     "execution_count": 18,
     "metadata": {},
     "output_type": "execute_result"
    }
   ],
   "source": [
    "second_stage_target = second_candidates.join(second_order, how='left', on=['user_id', 'item_id']).fill_null(0)\n",
    "second_stage_target = second_stage_target.select('user_id', 'item_id', 'selected').filter(pl.sum('selected').over(['user_id']) > 0)\n",
    "second_stage_target.head()"
   ]
  },
  {
   "cell_type": "code",
   "execution_count": 19,
   "id": "1d779a34-b1b5-4999-b38f-51d8ef395100",
   "metadata": {},
   "outputs": [],
   "source": [
    "second_stage_df = second_stage_target.join(features, how='left', on=['user_id', 'item_id'])"
   ]
  },
  {
   "cell_type": "code",
   "execution_count": 20,
   "id": "7ed0397c-9aab-48a8-a790-41467461e17e",
   "metadata": {},
   "outputs": [],
   "source": [
    "import lightgbm as lgb"
   ]
  },
  {
   "cell_type": "code",
   "execution_count": 21,
   "id": "06bf21ca-f7fd-403d-82f1-d1fccf1f5360",
   "metadata": {},
   "outputs": [
    {
     "data": {
      "text/html": [
       "<div><style>\n",
       ".dataframe > thead > tr,\n",
       ".dataframe > tbody > tr {\n",
       "  text-align: right;\n",
       "  white-space: pre-wrap;\n",
       "}\n",
       "</style>\n",
       "<small>shape: (10_708_736, 13)</small><table border=\"1\" class=\"dataframe\"><thead><tr><th>user_id</th><th>item_id</th><th>selected</th><th>to_cart</th><th>canceled_orders</th><th>delivered_orders</th><th>view_description</th><th>proccesed_orders</th><th>unfavorite</th><th>favorite</th><th>remove</th><th>review_view</th><th>page_view</th></tr><tr><td>i32</td><td>i32</td><td>i32</td><td>i16</td><td>i16</td><td>i16</td><td>i16</td><td>i16</td><td>i16</td><td>i16</td><td>i16</td><td>i16</td><td>i16</td></tr></thead><tbody><tr><td>30</td><td>25117760</td><td>0</td><td>0</td><td>0</td><td>0</td><td>1</td><td>0</td><td>0</td><td>0</td><td>0</td><td>0</td><td>1</td></tr><tr><td>30</td><td>193241077</td><td>0</td><td>0</td><td>0</td><td>0</td><td>0</td><td>0</td><td>0</td><td>0</td><td>0</td><td>0</td><td>1</td></tr><tr><td>30</td><td>3612686</td><td>0</td><td>0</td><td>0</td><td>0</td><td>0</td><td>0</td><td>1</td><td>0</td><td>0</td><td>0</td><td>0</td></tr><tr><td>30</td><td>282606532</td><td>0</td><td>0</td><td>0</td><td>0</td><td>1</td><td>0</td><td>0</td><td>1</td><td>0</td><td>0</td><td>1</td></tr><tr><td>30</td><td>153370562</td><td>0</td><td>0</td><td>0</td><td>0</td><td>0</td><td>0</td><td>0</td><td>1</td><td>1</td><td>0</td><td>0</td></tr><tr><td>&hellip;</td><td>&hellip;</td><td>&hellip;</td><td>&hellip;</td><td>&hellip;</td><td>&hellip;</td><td>&hellip;</td><td>&hellip;</td><td>&hellip;</td><td>&hellip;</td><td>&hellip;</td><td>&hellip;</td><td>&hellip;</td></tr><tr><td>5061651</td><td>144578163</td><td>0</td><td>null</td><td>null</td><td>null</td><td>null</td><td>null</td><td>null</td><td>null</td><td>null</td><td>null</td><td>null</td></tr><tr><td>5061651</td><td>82192656</td><td>0</td><td>null</td><td>null</td><td>null</td><td>null</td><td>null</td><td>null</td><td>null</td><td>null</td><td>null</td><td>null</td></tr><tr><td>5061651</td><td>60042389</td><td>0</td><td>0</td><td>0</td><td>0</td><td>0</td><td>0</td><td>0</td><td>0</td><td>0</td><td>0</td><td>1</td></tr><tr><td>5061651</td><td>12314610</td><td>0</td><td>1</td><td>0</td><td>0</td><td>0</td><td>0</td><td>0</td><td>0</td><td>0</td><td>0</td><td>4</td></tr><tr><td>5061651</td><td>125911427</td><td>0</td><td>0</td><td>0</td><td>0</td><td>0</td><td>0</td><td>0</td><td>0</td><td>0</td><td>0</td><td>1</td></tr></tbody></table></div>"
      ],
      "text/plain": [
       "shape: (10_708_736, 13)\n",
       "┌─────────┬───────────┬──────────┬─────────┬───┬──────────┬────────┬─────────────┬───────────┐\n",
       "│ user_id ┆ item_id   ┆ selected ┆ to_cart ┆ … ┆ favorite ┆ remove ┆ review_view ┆ page_view │\n",
       "│ ---     ┆ ---       ┆ ---      ┆ ---     ┆   ┆ ---      ┆ ---    ┆ ---         ┆ ---       │\n",
       "│ i32     ┆ i32       ┆ i32      ┆ i16     ┆   ┆ i16      ┆ i16    ┆ i16         ┆ i16       │\n",
       "╞═════════╪═══════════╪══════════╪═════════╪═══╪══════════╪════════╪═════════════╪═══════════╡\n",
       "│ 30      ┆ 25117760  ┆ 0        ┆ 0       ┆ … ┆ 0        ┆ 0      ┆ 0           ┆ 1         │\n",
       "│ 30      ┆ 193241077 ┆ 0        ┆ 0       ┆ … ┆ 0        ┆ 0      ┆ 0           ┆ 1         │\n",
       "│ 30      ┆ 3612686   ┆ 0        ┆ 0       ┆ … ┆ 0        ┆ 0      ┆ 0           ┆ 0         │\n",
       "│ 30      ┆ 282606532 ┆ 0        ┆ 0       ┆ … ┆ 1        ┆ 0      ┆ 0           ┆ 1         │\n",
       "│ 30      ┆ 153370562 ┆ 0        ┆ 0       ┆ … ┆ 1        ┆ 1      ┆ 0           ┆ 0         │\n",
       "│ …       ┆ …         ┆ …        ┆ …       ┆ … ┆ …        ┆ …      ┆ …           ┆ …         │\n",
       "│ 5061651 ┆ 144578163 ┆ 0        ┆ null    ┆ … ┆ null     ┆ null   ┆ null        ┆ null      │\n",
       "│ 5061651 ┆ 82192656  ┆ 0        ┆ null    ┆ … ┆ null     ┆ null   ┆ null        ┆ null      │\n",
       "│ 5061651 ┆ 60042389  ┆ 0        ┆ 0       ┆ … ┆ 0        ┆ 0      ┆ 0           ┆ 1         │\n",
       "│ 5061651 ┆ 12314610  ┆ 0        ┆ 1       ┆ … ┆ 0        ┆ 0      ┆ 0           ┆ 4         │\n",
       "│ 5061651 ┆ 125911427 ┆ 0        ┆ 0       ┆ … ┆ 0        ┆ 0      ┆ 0           ┆ 1         │\n",
       "└─────────┴───────────┴──────────┴─────────┴───┴──────────┴────────┴─────────────┴───────────┘"
      ]
     },
     "execution_count": 21,
     "metadata": {},
     "output_type": "execute_result"
    }
   ],
   "source": [
    "second_stage_df = second_stage_df.sort('user_id')\n",
    "second_stage_df"
   ]
  },
  {
   "cell_type": "code",
   "execution_count": 22,
   "id": "6a5eed77-482f-4f84-8ee6-1f7a6ed989ca",
   "metadata": {},
   "outputs": [],
   "source": [
    "groups = second_stage_df.select('user_id').to_pandas()\n",
    "groups = groups.user_id.value_counts().loc[groups.user_id.unique()].values"
   ]
  },
  {
   "cell_type": "code",
   "execution_count": 23,
   "id": "d730edf2-a0bb-4d5f-9b18-5579989dbe64",
   "metadata": {},
   "outputs": [],
   "source": [
    "# Create LightGBM Dataset for ranking\n",
    "train_data = lgb.Dataset(\n",
    "    second_stage_df.drop('selected', 'item_id', 'user_id').to_pandas(), \n",
    "    label=second_stage_df.select('selected').to_pandas().squeeze(), \n",
    "    group=groups\n",
    ")"
   ]
  },
  {
   "cell_type": "code",
   "execution_count": 24,
   "id": "76999896-6587-4455-ba57-0e875b3434f9",
   "metadata": {},
   "outputs": [
    {
     "name": "stdout",
     "output_type": "stream",
     "text": [
      "Training LightGBM Ranker...\n",
      "Training until validation scores don't improve for 10 rounds\n",
      "[10]\ttrain's ndcg@5: 0.513721\ttrain's ndcg@10: 0.564791\n",
      "[20]\ttrain's ndcg@5: 0.514029\ttrain's ndcg@10: 0.565292\n",
      "[30]\ttrain's ndcg@5: 0.514338\ttrain's ndcg@10: 0.565546\n",
      "[40]\ttrain's ndcg@5: 0.514625\ttrain's ndcg@10: 0.565747\n",
      "[50]\ttrain's ndcg@5: 0.515054\ttrain's ndcg@10: 0.566154\n",
      "[60]\ttrain's ndcg@5: 0.515297\ttrain's ndcg@10: 0.56628\n",
      "[70]\ttrain's ndcg@5: 0.515492\ttrain's ndcg@10: 0.566444\n",
      "[80]\ttrain's ndcg@5: 0.51552\ttrain's ndcg@10: 0.566462\n",
      "[90]\ttrain's ndcg@5: 0.515694\ttrain's ndcg@10: 0.56668\n",
      "[100]\ttrain's ndcg@5: 0.515709\ttrain's ndcg@10: 0.566731\n"
     ]
    }
   ],
   "source": [
    "params = {\n",
    "    'objective': 'lambdarank',\n",
    "    'metric': 'ndcg',\n",
    "    'ndcg_eval_at': [5, 10],\n",
    "    'learning_rate': 0.05,\n",
    "    'num_leaves': 31,\n",
    "    'verbosity': -1,\n",
    "    'random_state': 42,\n",
    "    'force_row_wise': True\n",
    "}\n",
    "\n",
    "# Train the model\n",
    "print(\"Training LightGBM Ranker...\")\n",
    "model = lgb.train(\n",
    "    params,\n",
    "    train_data,\n",
    "    num_boost_round=100,\n",
    "    valid_sets=[train_data],\n",
    "    valid_names=['train'],\n",
    "    callbacks=[\n",
    "        lgb.early_stopping(stopping_rounds=10, verbose=True),\n",
    "        lgb.log_evaluation(period=10)\n",
    "    ]\n",
    ")\n"
   ]
  },
  {
   "cell_type": "markdown",
   "id": "4165f59b-464a-4ca7-a859-4fd8bde10285",
   "metadata": {},
   "source": [
    "# I and II stage models evaluation"
   ]
  },
  {
   "cell_type": "code",
   "execution_count": 29,
   "id": "b0be2b48-9ce4-45fd-b4ee-b0f9da10ee0d",
   "metadata": {},
   "outputs": [
    {
     "data": {
      "text/plain": [
       "Schema([('user_id', Int32), ('item_id', Int32), ('action_type', String)])"
      ]
     },
     "execution_count": 29,
     "metadata": {},
     "output_type": "execute_result"
    }
   ],
   "source": [
    "second_tracker = (\n",
    "    tracker\n",
    "    .filter(\n",
    "        pl.col('timestamp').is_between(second_stage_start, second_stage_end)\n",
    "    )\n",
    "    .select('user_id', 'item_id', 'action_type')\n",
    ")\n",
    "\n",
    "second_df = pl.concat([second_tracker, second_order])\n",
    "second_df.collect_schema()"
   ]
  },
  {
   "cell_type": "code",
   "execution_count": 31,
   "id": "96cacab5-b53f-42c2-99b0-7f308deb8c7d",
   "metadata": {},
   "outputs": [
    {
     "name": "stdout",
     "output_type": "stream",
     "text": [
      "(64310435, 12)\n"
     ]
    },
    {
     "data": {
      "text/html": [
       "<div><style>\n",
       ".dataframe > thead > tr,\n",
       ".dataframe > tbody > tr {\n",
       "  text-align: right;\n",
       "  white-space: pre-wrap;\n",
       "}\n",
       "</style>\n",
       "<small>shape: (5, 12)</small><table border=\"1\" class=\"dataframe\"><thead><tr><th>user_id</th><th>item_id</th><th>to_cart</th><th>canceled_orders</th><th>delivered_orders</th><th>view_description</th><th>proccesed_orders</th><th>unfavorite</th><th>favorite</th><th>remove</th><th>review_view</th><th>page_view</th></tr><tr><td>i32</td><td>i32</td><td>i16</td><td>i16</td><td>i16</td><td>i16</td><td>i16</td><td>i16</td><td>i16</td><td>i16</td><td>i16</td><td>i16</td></tr></thead><tbody><tr><td>4018251</td><td>327540502</td><td>0</td><td>0</td><td>0</td><td>0</td><td>0</td><td>0</td><td>1</td><td>0</td><td>0</td><td>2</td></tr><tr><td>2963900</td><td>20607894</td><td>0</td><td>0</td><td>0</td><td>0</td><td>0</td><td>0</td><td>0</td><td>0</td><td>0</td><td>1</td></tr><tr><td>2462961</td><td>10049982</td><td>1</td><td>0</td><td>0</td><td>0</td><td>0</td><td>0</td><td>0</td><td>0</td><td>0</td><td>1</td></tr><tr><td>53771</td><td>202050919</td><td>0</td><td>0</td><td>0</td><td>0</td><td>0</td><td>0</td><td>0</td><td>0</td><td>0</td><td>1</td></tr><tr><td>3515511</td><td>337576766</td><td>1</td><td>0</td><td>0</td><td>0</td><td>0</td><td>0</td><td>0</td><td>1</td><td>0</td><td>3</td></tr></tbody></table></div>"
      ],
      "text/plain": [
       "shape: (5, 12)\n",
       "┌─────────┬───────────┬─────────┬────────────────┬───┬──────────┬────────┬─────────────┬───────────┐\n",
       "│ user_id ┆ item_id   ┆ to_cart ┆ canceled_order ┆ … ┆ favorite ┆ remove ┆ review_view ┆ page_view │\n",
       "│ ---     ┆ ---       ┆ ---     ┆ s              ┆   ┆ ---      ┆ ---    ┆ ---         ┆ ---       │\n",
       "│ i32     ┆ i32       ┆ i16     ┆ ---            ┆   ┆ i16      ┆ i16    ┆ i16         ┆ i16       │\n",
       "│         ┆           ┆         ┆ i16            ┆   ┆          ┆        ┆             ┆           │\n",
       "╞═════════╪═══════════╪═════════╪════════════════╪═══╪══════════╪════════╪═════════════╪═══════════╡\n",
       "│ 4018251 ┆ 327540502 ┆ 0       ┆ 0              ┆ … ┆ 1        ┆ 0      ┆ 0           ┆ 2         │\n",
       "│ 2963900 ┆ 20607894  ┆ 0       ┆ 0              ┆ … ┆ 0        ┆ 0      ┆ 0           ┆ 1         │\n",
       "│ 2462961 ┆ 10049982  ┆ 1       ┆ 0              ┆ … ┆ 0        ┆ 0      ┆ 0           ┆ 1         │\n",
       "│ 53771   ┆ 202050919 ┆ 0       ┆ 0              ┆ … ┆ 0        ┆ 0      ┆ 0           ┆ 1         │\n",
       "│ 3515511 ┆ 337576766 ┆ 1       ┆ 0              ┆ … ┆ 0        ┆ 1      ┆ 0           ┆ 3         │\n",
       "└─────────┴───────────┴─────────┴────────────────┴───┴──────────┴────────┴─────────────┴───────────┘"
      ]
     },
     "execution_count": 31,
     "metadata": {},
     "output_type": "execute_result"
    }
   ],
   "source": [
    "features = (\n",
    "    second_tracker\n",
    "    .group_by([\"user_id\", \"item_id\"])\n",
    "    .agg(*action_counts)\n",
    ")\n",
    "\n",
    "features = features.collect()\n",
    "\n",
    "print(features.shape)\n",
    "features.head()"
   ]
  },
  {
   "cell_type": "code",
   "execution_count": 32,
   "id": "311b0c56-d515-4660-a5f6-fcec11570c5a",
   "metadata": {},
   "outputs": [
    {
     "data": {
      "text/plain": [
       "n_products\n",
       "1              45994\n",
       "2              32429\n",
       "3              26629\n",
       "4              23004\n",
       "5              20489\n",
       "               ...  \n",
       "96              1969\n",
       "97              1835\n",
       "98              1860\n",
       "99              1842\n",
       "100           188446\n",
       "Name: count, Length: 100, dtype: int64"
      ]
     },
     "execution_count": 32,
     "metadata": {},
     "output_type": "execute_result"
    }
   ],
   "source": [
    "touch_second_stage = features.select(['user_id', 'item_id'])\n",
    "touch_second_stage = touch_second_stage.group_by('user_id').head(100)\n",
    "get_count_of_recommendations(touch_second_stage)"
   ]
  },
  {
   "cell_type": "code",
   "execution_count": 33,
   "id": "e3292dad-0726-4451-ad71-53770777c200",
   "metadata": {},
   "outputs": [],
   "source": [
    "popular_second_stage = (\n",
    "    second_order\n",
    "    .group_by('item_id')\n",
    "    .agg(pl.len())\n",
    "    .sort('len', descending=False)\n",
    "    .head(10)\n",
    "    .select('item_id')\n",
    "    .collect()\n",
    ")"
   ]
  },
  {
   "cell_type": "markdown",
   "id": "bc91f531-f65b-4cbc-b5bb-8f85e91caeb0",
   "metadata": {},
   "source": [
    "# Submit"
   ]
  },
  {
   "cell_type": "code",
   "execution_count": 37,
   "id": "87199826-cc71-4559-8085-353db2d72cae",
   "metadata": {},
   "outputs": [
    {
     "name": "stdout",
     "output_type": "stream",
     "text": [
      "(30623165, 3)\n"
     ]
    },
    {
     "data": {
      "text/html": [
       "<div><style>\n",
       ".dataframe > thead > tr,\n",
       ".dataframe > tbody > tr {\n",
       "  text-align: right;\n",
       "  white-space: pre-wrap;\n",
       "}\n",
       "</style>\n",
       "<small>shape: (30_623_165, 3)</small><table border=\"1\" class=\"dataframe\"><thead><tr><th>user_id</th><th>item_id</th><th>is_candidate</th></tr><tr><td>i32</td><td>i32</td><td>i32</td></tr></thead><tbody><tr><td>3470560</td><td>129046002</td><td>1</td></tr><tr><td>30951</td><td>171512205</td><td>1</td></tr><tr><td>4854080</td><td>242700654</td><td>1</td></tr><tr><td>4139401</td><td>65964830</td><td>1</td></tr><tr><td>1926950</td><td>329432914</td><td>1</td></tr><tr><td>&hellip;</td><td>&hellip;</td><td>&hellip;</td></tr><tr><td>876651</td><td>244727712</td><td>1</td></tr><tr><td>4526340</td><td>2048076</td><td>1</td></tr><tr><td>2113831</td><td>273324409</td><td>1</td></tr><tr><td>98850</td><td>119570884</td><td>1</td></tr><tr><td>4662121</td><td>103310249</td><td>1</td></tr></tbody></table></div>"
      ],
      "text/plain": [
       "shape: (30_623_165, 3)\n",
       "┌─────────┬───────────┬──────────────┐\n",
       "│ user_id ┆ item_id   ┆ is_candidate │\n",
       "│ ---     ┆ ---       ┆ ---          │\n",
       "│ i32     ┆ i32       ┆ i32          │\n",
       "╞═════════╪═══════════╪══════════════╡\n",
       "│ 3470560 ┆ 129046002 ┆ 1            │\n",
       "│ 30951   ┆ 171512205 ┆ 1            │\n",
       "│ 4854080 ┆ 242700654 ┆ 1            │\n",
       "│ 4139401 ┆ 65964830  ┆ 1            │\n",
       "│ 1926950 ┆ 329432914 ┆ 1            │\n",
       "│ …       ┆ …         ┆ …            │\n",
       "│ 876651  ┆ 244727712 ┆ 1            │\n",
       "│ 4526340 ┆ 2048076   ┆ 1            │\n",
       "│ 2113831 ┆ 273324409 ┆ 1            │\n",
       "│ 98850   ┆ 119570884 ┆ 1            │\n",
       "│ 4662121 ┆ 103310249 ┆ 1            │\n",
       "└─────────┴───────────┴──────────────┘"
      ]
     },
     "execution_count": 37,
     "metadata": {},
     "output_type": "execute_result"
    }
   ],
   "source": [
    "submit_candidates = pl.concat([\n",
    "    test_df.select('user_id').collect().unique().join(touch_second_stage, how='inner', on='user_id'),\n",
    "    test_df.select('user_id').collect().unique().join(popular_second_stage, how='cross')\n",
    "]).unique().with_columns(pl.lit(1).alias('is_candidate'))\n",
    "\n",
    "print(submit_candidates.shape)\n",
    "\n",
    "submit_candidates"
   ]
  },
  {
   "cell_type": "code",
   "execution_count": 39,
   "id": "6156909e-e8bd-4538-9a0d-ac6d1502d50b",
   "metadata": {},
   "outputs": [
    {
     "data": {
      "text/html": [
       "<div><style>\n",
       ".dataframe > thead > tr,\n",
       ".dataframe > tbody > tr {\n",
       "  text-align: right;\n",
       "  white-space: pre-wrap;\n",
       "}\n",
       "</style>\n",
       "<small>shape: (1, 1)</small><table border=\"1\" class=\"dataframe\"><thead><tr><th>user_id</th></tr><tr><td>u32</td></tr></thead><tbody><tr><td>470347</td></tr></tbody></table></div>"
      ],
      "text/plain": [
       "shape: (1, 1)\n",
       "┌─────────┐\n",
       "│ user_id │\n",
       "│ ---     │\n",
       "│ u32     │\n",
       "╞═════════╡\n",
       "│ 470347  │\n",
       "└─────────┘"
      ]
     },
     "execution_count": 39,
     "metadata": {},
     "output_type": "execute_result"
    }
   ],
   "source": [
    "submit_candidates.select('user_id').unique().count()"
   ]
  },
  {
   "cell_type": "code",
   "execution_count": 42,
   "id": "93ae120c-4288-4cbe-ac4c-184f19c33325",
   "metadata": {},
   "outputs": [],
   "source": [
    "submit_candidates = submit_candidates.join(features, how='left', on=['user_id', 'item_id']).drop('is_candidate')"
   ]
  },
  {
   "cell_type": "code",
   "execution_count": 47,
   "id": "1140fa4e-8efb-400b-a23f-a11d06dcde59",
   "metadata": {},
   "outputs": [],
   "source": [
    "predict = model.predict(submit_candidates.drop('user_id', 'item_id').to_pandas())"
   ]
  },
  {
   "cell_type": "code",
   "execution_count": 49,
   "id": "03074287-941e-4fa3-9793-11c8894ed25f",
   "metadata": {},
   "outputs": [
    {
     "data": {
      "text/plain": [
       "array([-2.19065677, -2.19065677, -1.35026858, ..., -1.60696823,\n",
       "       -2.19065677, -2.19065677], shape=(30623165,))"
      ]
     },
     "execution_count": 49,
     "metadata": {},
     "output_type": "execute_result"
    }
   ],
   "source": [
    "predict"
   ]
  },
  {
   "cell_type": "code",
   "execution_count": 50,
   "id": "15e3c96e-5a08-4367-ac5c-073ab67f1552",
   "metadata": {},
   "outputs": [],
   "source": [
    "submit_candidates = submit_candidates.to_pandas()[['user_id', 'item_id']]"
   ]
  },
  {
   "cell_type": "code",
   "execution_count": 51,
   "id": "e77b790b-c20d-4100-9d6c-566a2200e0c5",
   "metadata": {},
   "outputs": [],
   "source": [
    "submit_candidates['rank'] = predict"
   ]
  },
  {
   "cell_type": "code",
   "execution_count": 54,
   "id": "e7856903-bd25-42b5-82ef-7c79ab8fce2d",
   "metadata": {},
   "outputs": [
    {
     "data": {
      "text/html": [
       "<div>\n",
       "<style scoped>\n",
       "    .dataframe tbody tr th:only-of-type {\n",
       "        vertical-align: middle;\n",
       "    }\n",
       "\n",
       "    .dataframe tbody tr th {\n",
       "        vertical-align: top;\n",
       "    }\n",
       "\n",
       "    .dataframe thead th {\n",
       "        text-align: right;\n",
       "    }\n",
       "</style>\n",
       "<table border=\"1\" class=\"dataframe\">\n",
       "  <thead>\n",
       "    <tr style=\"text-align: right;\">\n",
       "      <th></th>\n",
       "      <th>user_id</th>\n",
       "      <th>item_id</th>\n",
       "      <th>rank</th>\n",
       "    </tr>\n",
       "  </thead>\n",
       "  <tbody>\n",
       "    <tr>\n",
       "      <th>0</th>\n",
       "      <td>3470560</td>\n",
       "      <td>129046002</td>\n",
       "      <td>-2.190657</td>\n",
       "    </tr>\n",
       "    <tr>\n",
       "      <th>1</th>\n",
       "      <td>30951</td>\n",
       "      <td>171512205</td>\n",
       "      <td>-2.190657</td>\n",
       "    </tr>\n",
       "    <tr>\n",
       "      <th>2</th>\n",
       "      <td>4854080</td>\n",
       "      <td>242700654</td>\n",
       "      <td>-1.350269</td>\n",
       "    </tr>\n",
       "    <tr>\n",
       "      <th>3</th>\n",
       "      <td>4139401</td>\n",
       "      <td>65964830</td>\n",
       "      <td>1.375074</td>\n",
       "    </tr>\n",
       "    <tr>\n",
       "      <th>4</th>\n",
       "      <td>1926950</td>\n",
       "      <td>329432914</td>\n",
       "      <td>-2.190657</td>\n",
       "    </tr>\n",
       "    <tr>\n",
       "      <th>...</th>\n",
       "      <td>...</td>\n",
       "      <td>...</td>\n",
       "      <td>...</td>\n",
       "    </tr>\n",
       "    <tr>\n",
       "      <th>30623160</th>\n",
       "      <td>876651</td>\n",
       "      <td>244727712</td>\n",
       "      <td>-2.190657</td>\n",
       "    </tr>\n",
       "    <tr>\n",
       "      <th>30623161</th>\n",
       "      <td>4526340</td>\n",
       "      <td>2048076</td>\n",
       "      <td>-2.190657</td>\n",
       "    </tr>\n",
       "    <tr>\n",
       "      <th>30623162</th>\n",
       "      <td>2113831</td>\n",
       "      <td>273324409</td>\n",
       "      <td>-1.606968</td>\n",
       "    </tr>\n",
       "    <tr>\n",
       "      <th>30623163</th>\n",
       "      <td>98850</td>\n",
       "      <td>119570884</td>\n",
       "      <td>-2.190657</td>\n",
       "    </tr>\n",
       "    <tr>\n",
       "      <th>30623164</th>\n",
       "      <td>4662121</td>\n",
       "      <td>103310249</td>\n",
       "      <td>-2.190657</td>\n",
       "    </tr>\n",
       "  </tbody>\n",
       "</table>\n",
       "<p>30623165 rows × 3 columns</p>\n",
       "</div>"
      ],
      "text/plain": [
       "          user_id    item_id      rank\n",
       "0         3470560  129046002 -2.190657\n",
       "1           30951  171512205 -2.190657\n",
       "2         4854080  242700654 -1.350269\n",
       "3         4139401   65964830  1.375074\n",
       "4         1926950  329432914 -2.190657\n",
       "...           ...        ...       ...\n",
       "30623160   876651  244727712 -2.190657\n",
       "30623161  4526340    2048076 -2.190657\n",
       "30623162  2113831  273324409 -1.606968\n",
       "30623163    98850  119570884 -2.190657\n",
       "30623164  4662121  103310249 -2.190657\n",
       "\n",
       "[30623165 rows x 3 columns]"
      ]
     },
     "execution_count": 54,
     "metadata": {},
     "output_type": "execute_result"
    }
   ],
   "source": [
    "submit_candidates"
   ]
  },
  {
   "cell_type": "code",
   "execution_count": 56,
   "id": "d956497f-c26c-4b8e-9d45-cd777aa5ca45",
   "metadata": {},
   "outputs": [],
   "source": [
    "popular_second_stage_2 = (\n",
    "    second_order\n",
    "    .group_by('item_id')\n",
    "    .agg(pl.len())\n",
    "    .sort('len', descending=False)\n",
    "    .head(90)\n",
    "    .select('item_id')\n",
    "    .collect()\n",
    "    .to_pandas()\n",
    ")"
   ]
  },
  {
   "cell_type": "code",
   "execution_count": 60,
   "id": "7fd3b87b-5818-4955-a805-aa08036f7d66",
   "metadata": {},
   "outputs": [],
   "source": [
    "t = submit_candidates.user_id.drop_duplicates().to_frame().merge(popular_second_stage_2, how='cross')"
   ]
  },
  {
   "cell_type": "code",
   "execution_count": 61,
   "id": "4c7ed498-842c-496f-833b-e7960d44dc1e",
   "metadata": {},
   "outputs": [],
   "source": [
    "t['rank'] = -1000"
   ]
  },
  {
   "cell_type": "code",
   "execution_count": 64,
   "id": "f3582e7f-84b3-41e9-ab1c-c347506e367b",
   "metadata": {},
   "outputs": [],
   "source": [
    "import pandas as pd\n",
    "submit_candidates = pd.concat([submit_candidates, t], axis=0).drop_duplicates(['user_id', 'item_id'])"
   ]
  },
  {
   "cell_type": "code",
   "execution_count": 67,
   "id": "17da6ed7-d493-4733-9404-c0c271f0f8fe",
   "metadata": {},
   "outputs": [
    {
     "data": {
      "text/html": [
       "<div>\n",
       "<style scoped>\n",
       "    .dataframe tbody tr th:only-of-type {\n",
       "        vertical-align: middle;\n",
       "    }\n",
       "\n",
       "    .dataframe tbody tr th {\n",
       "        vertical-align: top;\n",
       "    }\n",
       "\n",
       "    .dataframe thead th {\n",
       "        text-align: right;\n",
       "    }\n",
       "</style>\n",
       "<table border=\"1\" class=\"dataframe\">\n",
       "  <thead>\n",
       "    <tr style=\"text-align: right;\">\n",
       "      <th></th>\n",
       "      <th>user_id</th>\n",
       "      <th>item_id</th>\n",
       "      <th>rank</th>\n",
       "    </tr>\n",
       "  </thead>\n",
       "  <tbody>\n",
       "    <tr>\n",
       "      <th>20635979</th>\n",
       "      <td>1553340</td>\n",
       "      <td>117904004</td>\n",
       "      <td>2.877221</td>\n",
       "    </tr>\n",
       "    <tr>\n",
       "      <th>8286416</th>\n",
       "      <td>4391690</td>\n",
       "      <td>209536661</td>\n",
       "      <td>2.841210</td>\n",
       "    </tr>\n",
       "    <tr>\n",
       "      <th>1544563</th>\n",
       "      <td>954311</td>\n",
       "      <td>217373252</td>\n",
       "      <td>2.841210</td>\n",
       "    </tr>\n",
       "    <tr>\n",
       "      <th>24559165</th>\n",
       "      <td>188911</td>\n",
       "      <td>313016951</td>\n",
       "      <td>2.838752</td>\n",
       "    </tr>\n",
       "    <tr>\n",
       "      <th>27949505</th>\n",
       "      <td>389741</td>\n",
       "      <td>255651911</td>\n",
       "      <td>2.820087</td>\n",
       "    </tr>\n",
       "    <tr>\n",
       "      <th>...</th>\n",
       "      <td>...</td>\n",
       "      <td>...</td>\n",
       "      <td>...</td>\n",
       "    </tr>\n",
       "    <tr>\n",
       "      <th>42331205</th>\n",
       "      <td>2123341</td>\n",
       "      <td>237499658</td>\n",
       "      <td>-1000.000000</td>\n",
       "    </tr>\n",
       "    <tr>\n",
       "      <th>42331204</th>\n",
       "      <td>2123341</td>\n",
       "      <td>206383412</td>\n",
       "      <td>-1000.000000</td>\n",
       "    </tr>\n",
       "    <tr>\n",
       "      <th>42331203</th>\n",
       "      <td>2123341</td>\n",
       "      <td>155036489</td>\n",
       "      <td>-1000.000000</td>\n",
       "    </tr>\n",
       "    <tr>\n",
       "      <th>42331202</th>\n",
       "      <td>2123341</td>\n",
       "      <td>45489338</td>\n",
       "      <td>-1000.000000</td>\n",
       "    </tr>\n",
       "    <tr>\n",
       "      <th>42331201</th>\n",
       "      <td>2123341</td>\n",
       "      <td>85132375</td>\n",
       "      <td>-1000.000000</td>\n",
       "    </tr>\n",
       "  </tbody>\n",
       "</table>\n",
       "<p>72953486 rows × 3 columns</p>\n",
       "</div>"
      ],
      "text/plain": [
       "          user_id    item_id         rank\n",
       "20635979  1553340  117904004     2.877221\n",
       "8286416   4391690  209536661     2.841210\n",
       "1544563    954311  217373252     2.841210\n",
       "24559165   188911  313016951     2.838752\n",
       "27949505   389741  255651911     2.820087\n",
       "...           ...        ...          ...\n",
       "42331205  2123341  237499658 -1000.000000\n",
       "42331204  2123341  206383412 -1000.000000\n",
       "42331203  2123341  155036489 -1000.000000\n",
       "42331202  2123341   45489338 -1000.000000\n",
       "42331201  2123341   85132375 -1000.000000\n",
       "\n",
       "[72953486 rows x 3 columns]"
      ]
     },
     "execution_count": 67,
     "metadata": {},
     "output_type": "execute_result"
    }
   ],
   "source": [
    "submit_candidates = submit_candidates.sort_values('rank', ascending=False)\n",
    "submit_candidates"
   ]
  },
  {
   "cell_type": "code",
   "execution_count": null,
   "id": "8be40f88-863f-44de-8836-59f5bcf5a82e",
   "metadata": {},
   "outputs": [],
   "source": []
  },
  {
   "cell_type": "code",
   "execution_count": 68,
   "id": "108a0465-6bb1-4b46-850d-bf3d6f93b0c2",
   "metadata": {},
   "outputs": [],
   "source": [
    "submit_candidates['rank'] = submit_candidates.groupby('user_id')['rank'].cumcount() + 1"
   ]
  },
  {
   "cell_type": "code",
   "execution_count": 70,
   "id": "5faef777-7f28-4bb9-8ef5-08fcea65ff90",
   "metadata": {},
   "outputs": [],
   "source": [
    "submit_candidates = submit_candidates[submit_candidates['rank'] <= 100]"
   ]
  },
  {
   "cell_type": "code",
   "execution_count": 74,
   "id": "716666b1-53ef-44bd-bd9e-64406607eb69",
   "metadata": {},
   "outputs": [],
   "source": [
    "submit_candidates = submit_candidates.pivot(index='user_id', columns='rank', values='item_id').add_prefix('item_')"
   ]
  },
  {
   "cell_type": "code",
   "execution_count": 78,
   "id": "801ef4b2-7447-460d-ad51-875bbd904a36",
   "metadata": {},
   "outputs": [
    {
     "data": {
      "text/plain": [
       "np.int64(0)"
      ]
     },
     "execution_count": 78,
     "metadata": {},
     "output_type": "execute_result"
    }
   ],
   "source": [
    "submit_candidates.isna().sum().sum()"
   ]
  },
  {
   "cell_type": "code",
   "execution_count": 95,
   "id": "8e862c32-e22c-42d6-8607-0a782235ed8c",
   "metadata": {},
   "outputs": [],
   "source": [
    "submit_candidates.reset_index().to_csv('submit.csv', index=False)"
   ]
  },
  {
   "cell_type": "code",
   "execution_count": 79,
   "id": "805bc25a-f633-47ed-b34e-c33f48af218d",
   "metadata": {},
   "outputs": [],
   "source": [
    "submit_candidates.columns = [col.replace('item_', 'item_id_') for col in submit_candidates.columns]"
   ]
  },
  {
   "cell_type": "code",
   "execution_count": 96,
   "id": "281b0598-cc55-40c2-bf02-b6c210b271ea",
   "metadata": {},
   "outputs": [
    {
     "data": {
      "text/html": [
       "<div>\n",
       "<style scoped>\n",
       "    .dataframe tbody tr th:only-of-type {\n",
       "        vertical-align: middle;\n",
       "    }\n",
       "\n",
       "    .dataframe tbody tr th {\n",
       "        vertical-align: top;\n",
       "    }\n",
       "\n",
       "    .dataframe thead th {\n",
       "        text-align: right;\n",
       "    }\n",
       "</style>\n",
       "<table border=\"1\" class=\"dataframe\">\n",
       "  <thead>\n",
       "    <tr style=\"text-align: right;\">\n",
       "      <th></th>\n",
       "      <th>user_id</th>\n",
       "      <th>item_id_1 item_id_2 ... item_id_100</th>\n",
       "    </tr>\n",
       "  </thead>\n",
       "  <tbody>\n",
       "    <tr>\n",
       "      <th>0</th>\n",
       "      <td>1</td>\n",
       "      <td>336690475 177008489 42233071 140634651 2530228...</td>\n",
       "    </tr>\n",
       "    <tr>\n",
       "      <th>1</th>\n",
       "      <td>21</td>\n",
       "      <td>79922208 159181556 279061554 326764295 3182952...</td>\n",
       "    </tr>\n",
       "    <tr>\n",
       "      <th>2</th>\n",
       "      <td>30</td>\n",
       "      <td>134503837 77696741 246144687 124317721 3186026...</td>\n",
       "    </tr>\n",
       "    <tr>\n",
       "      <th>3</th>\n",
       "      <td>51</td>\n",
       "      <td>178891818 339048267 101716501 178256080 293554...</td>\n",
       "    </tr>\n",
       "    <tr>\n",
       "      <th>4</th>\n",
       "      <td>60</td>\n",
       "      <td>12689999 272126064 16276305 144159576 30491321...</td>\n",
       "    </tr>\n",
       "    <tr>\n",
       "      <th>...</th>\n",
       "      <td>...</td>\n",
       "      <td>...</td>\n",
       "    </tr>\n",
       "    <tr>\n",
       "      <th>470342</th>\n",
       "      <td>5061670</td>\n",
       "      <td>244670908 242694214 265449407 181176782 158661...</td>\n",
       "    </tr>\n",
       "    <tr>\n",
       "      <th>470343</th>\n",
       "      <td>5061671</td>\n",
       "      <td>124842086 300587813 87874269 331283434 1899466...</td>\n",
       "    </tr>\n",
       "    <tr>\n",
       "      <th>470344</th>\n",
       "      <td>5061680</td>\n",
       "      <td>80859188 59617342 281575404 30493479 71049829 ...</td>\n",
       "    </tr>\n",
       "    <tr>\n",
       "      <th>470345</th>\n",
       "      <td>5061681</td>\n",
       "      <td>176591826 326280438 33260658 252810202 3496328...</td>\n",
       "    </tr>\n",
       "    <tr>\n",
       "      <th>470346</th>\n",
       "      <td>5061690</td>\n",
       "      <td>237471116 314529718 116786435 239531375 333310...</td>\n",
       "    </tr>\n",
       "  </tbody>\n",
       "</table>\n",
       "<p>470347 rows × 2 columns</p>\n",
       "</div>"
      ],
      "text/plain": [
       "        user_id                item_id_1 item_id_2 ... item_id_100\n",
       "0             1  336690475 177008489 42233071 140634651 2530228...\n",
       "1            21  79922208 159181556 279061554 326764295 3182952...\n",
       "2            30  134503837 77696741 246144687 124317721 3186026...\n",
       "3            51  178891818 339048267 101716501 178256080 293554...\n",
       "4            60  12689999 272126064 16276305 144159576 30491321...\n",
       "...         ...                                                ...\n",
       "470342  5061670  244670908 242694214 265449407 181176782 158661...\n",
       "470343  5061671  124842086 300587813 87874269 331283434 1899466...\n",
       "470344  5061680  80859188 59617342 281575404 30493479 71049829 ...\n",
       "470345  5061681  176591826 326280438 33260658 252810202 3496328...\n",
       "470346  5061690  237471116 314529718 116786435 239531375 333310...\n",
       "\n",
       "[470347 rows x 2 columns]"
      ]
     },
     "execution_count": 96,
     "metadata": {},
     "output_type": "execute_result"
    }
   ],
   "source": [
    "pd.read_csv('submit.csv')"
   ]
  },
  {
   "cell_type": "code",
   "execution_count": 85,
   "id": "97309bdb-091e-4e0d-833a-c28d7a13b52c",
   "metadata": {},
   "outputs": [],
   "source": [
    "submit_candidates['item_id_1 item_id_2 ... item_id_100'] = submit_candidates.astype(str).agg(\" \".join, axis=1)"
   ]
  },
  {
   "cell_type": "code",
   "execution_count": 86,
   "id": "74d704c2-6189-410c-b468-e4b836f5d970",
   "metadata": {},
   "outputs": [],
   "source": [
    "submit_candidates = submit_candidates[['item_id_1 item_id_2 ... item_id_100']]"
   ]
  },
  {
   "cell_type": "code",
   "execution_count": 91,
   "id": "0c1fb928-3f48-45ce-ab3d-213022d2ea1d",
   "metadata": {},
   "outputs": [
    {
     "data": {
      "text/plain": [
       "100"
      ]
     },
     "execution_count": 91,
     "metadata": {},
     "output_type": "execute_result"
    }
   ],
   "source": [
    "len(submit_candidates.iloc[0, 0].split(' '))"
   ]
  },
  {
   "cell_type": "code",
   "execution_count": null,
   "id": "12bbd046-1390-401d-8296-218b5a944147",
   "metadata": {},
   "outputs": [],
   "source": []
  }
 ],
 "metadata": {
  "kernelspec": {
   "display_name": "ECup",
   "language": "python",
   "name": "ecup_env"
  },
  "language_info": {
   "codemirror_mode": {
    "name": "ipython",
    "version": 3
   },
   "file_extension": ".py",
   "mimetype": "text/x-python",
   "name": "python",
   "nbconvert_exporter": "python",
   "pygments_lexer": "ipython3",
   "version": "3.10.18"
  }
 },
 "nbformat": 4,
 "nbformat_minor": 5
}
