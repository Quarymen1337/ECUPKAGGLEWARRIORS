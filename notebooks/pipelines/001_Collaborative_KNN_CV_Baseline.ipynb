{
 "cells": [
  {
   "cell_type": "markdown",
   "id": "7a9696bb-6f48-456b-8592-1ba8d17b3424",
   "metadata": {},
   "source": [
    "# Introduction\n",
    "\n",
    "### Imports"
   ]
  },
  {
   "cell_type": "code",
   "execution_count": 1,
   "id": "f77935e4-4271-47a0-93ef-08c978cad8ae",
   "metadata": {},
   "outputs": [],
   "source": [
    "import git\n",
    "root = git.Repo('.', search_parent_directories=True).working_dir \n",
    "\n",
    "import pandas as pd\n",
    "import polars as pl\n",
    "\n",
    "import seaborn as sns\n",
    "import matplotlib.pyplot as plt\n",
    "\n",
    "from replay.data import Dataset, FeatureHint, FeatureInfo, FeatureSchema, FeatureType\n",
    "from replay.data.dataset_utils import DatasetLabelEncoder\n",
    "from replay.metrics import HitRate, NDCG, Experiment\n",
    "from replay.models import ItemKNN\n",
    "\n",
    "from tqdm import tqdm"
   ]
  },
  {
   "cell_type": "code",
   "execution_count": 2,
   "id": "c40a7a9a-2dab-4feb-8606-754bb600a9eb",
   "metadata": {},
   "outputs": [],
   "source": [
    "SEED = 42"
   ]
  },
  {
   "cell_type": "markdown",
   "id": "c5abf7f6-f842-455d-9967-6be766b032b2",
   "metadata": {},
   "source": [
    "# Data Loading"
   ]
  },
  {
   "cell_type": "code",
   "execution_count": 3,
   "id": "1ab8030a-ee77-40b7-971e-7ae84457c6ec",
   "metadata": {},
   "outputs": [],
   "source": [
    "extra_order_df = pl.scan_parquet(f'{root}/data/extra_orders/')\n",
    "extra_tracker_df = pl.scan_parquet(f'{root}/data/extra_tracker/').select('user_id', 'item_id', 'timestamp', 'action_type', 'action_widget')\n",
    "\n",
    "order_df = pl.scan_parquet(f'{root}/data/orders/').drop('created_date')\n",
    "tracker_df = pl.scan_parquet(f'{root}/data/tracker/').drop('date')\n",
    "\n",
    "test_df = pl.scan_parquet(f'{root}/data/test/')"
   ]
  },
  {
   "cell_type": "code",
   "execution_count": 4,
   "id": "ac7cb337-ebe2-4cd0-b695-d0a894399d53",
   "metadata": {},
   "outputs": [],
   "source": [
    "tracker = pl.concat([tracker_df, extra_tracker_df])\n",
    "order = pl.concat([order_df, extra_order_df])"
   ]
  },
  {
   "cell_type": "code",
   "execution_count": 5,
   "id": "f4c94b77-8b0e-47bc-beb8-9f77beeb4c0c",
   "metadata": {},
   "outputs": [
    {
     "data": {
      "text/plain": [
       "(shape: (1, 1)\n",
       " ┌─────────────────────┐\n",
       " │ timestamp           │\n",
       " │ ---                 │\n",
       " │ datetime[ns]        │\n",
       " ╞═════════════════════╡\n",
       " │ 2018-01-01 19:54:35 │\n",
       " └─────────────────────┘,\n",
       " shape: (1, 1)\n",
       " ┌─────────────────────┐\n",
       " │ timestamp           │\n",
       " │ ---                 │\n",
       " │ datetime[ns]        │\n",
       " ╞═════════════════════╡\n",
       " │ 2027-02-04 00:57:34 │\n",
       " └─────────────────────┘)"
      ]
     },
     "execution_count": 5,
     "metadata": {},
     "output_type": "execute_result"
    }
   ],
   "source": [
    "tracker_df.select(pl.min('timestamp')).collect(), tracker_df.select(pl.max('timestamp')).collect()"
   ]
  },
  {
   "cell_type": "markdown",
   "id": "4d99762c-f443-4ec0-8a3d-821a1af97026",
   "metadata": {},
   "source": [
    "- Very stranger case with tracker data timestamps"
   ]
  },
  {
   "cell_type": "code",
   "execution_count": 6,
   "id": "05052b54-e250-4a73-bf5e-c7d5ace268c6",
   "metadata": {},
   "outputs": [
    {
     "data": {
      "text/plain": [
       "(shape: (1, 1)\n",
       " ┌─────────────────────────┐\n",
       " │ created_timestamp       │\n",
       " │ ---                     │\n",
       " │ datetime[ns]            │\n",
       " ╞═════════════════════════╡\n",
       " │ 2025-01-01 00:00:01.406 │\n",
       " └─────────────────────────┘,\n",
       " shape: (1, 1)\n",
       " ┌─────────────────────────┐\n",
       " │ created_timestamp       │\n",
       " │ ---                     │\n",
       " │ datetime[ns]            │\n",
       " ╞═════════════════════════╡\n",
       " │ 2025-07-01 23:59:58.283 │\n",
       " └─────────────────────────┘)"
      ]
     },
     "execution_count": 6,
     "metadata": {},
     "output_type": "execute_result"
    }
   ],
   "source": [
    "order_df.select(pl.min('created_timestamp')).collect(), order_df.select(pl.max('created_timestamp')).collect()"
   ]
  },
  {
   "cell_type": "markdown",
   "id": "2ca01e55-545a-4631-8af8-fb0e41933dd2",
   "metadata": {},
   "source": [
    "- Orders data is fine"
   ]
  },
  {
   "cell_type": "markdown",
   "id": "fb94633b-d618-4be4-98a2-df13b35f0d16",
   "metadata": {},
   "source": [
    "# All Unique Users"
   ]
  },
  {
   "cell_type": "code",
   "execution_count": 7,
   "id": "e9dc6099-f23c-482a-b910-acb2816291d3",
   "metadata": {},
   "outputs": [
    {
     "name": "stdout",
     "output_type": "stream",
     "text": [
      "CPU times: user 2min, sys: 23.9 s, total: 2min 24s\n",
      "Wall time: 25.8 s\n"
     ]
    }
   ],
   "source": [
    "%%time\n",
    "tracker_id = set(tracker_df.select('user_id').unique().collect().to_numpy().squeeze())\n",
    "order_id = set(order_df.select('user_id').unique().collect().to_numpy().squeeze())\n",
    "\n",
    "extra_tracker_id = set(extra_tracker_df.select('user_id').unique().collect().to_numpy().squeeze())\n",
    "extra_order_id = set(extra_order_df.select('user_id').unique().collect().to_numpy().squeeze())\n",
    "\n",
    "test_id = set(test_df.select('user_id').unique().collect().to_numpy().squeeze())"
   ]
  },
  {
   "cell_type": "code",
   "execution_count": 8,
   "id": "4add3874-3281-4cf4-ae86-6e22d685ab3c",
   "metadata": {},
   "outputs": [
    {
     "data": {
      "text/plain": [
       "(1011099, 834137, 834132)"
      ]
     },
     "execution_count": 8,
     "metadata": {},
     "output_type": "execute_result"
    }
   ],
   "source": [
    "len(tracker_id), len(order_id), len(tracker_id.intersection(order_id))"
   ]
  },
  {
   "cell_type": "markdown",
   "id": "d9bb115c-d82c-46bb-863f-370659e2fa8c",
   "metadata": {},
   "source": [
    "There are users that are present only in tracker data - they don't make any purchases thus don't have any delivery status."
   ]
  },
  {
   "cell_type": "code",
   "execution_count": 9,
   "id": "31540b2f-592b-4816-af0e-752081a4efcc",
   "metadata": {},
   "outputs": [
    {
     "data": {
      "text/plain": [
       "(807670, 346759, 346750)"
      ]
     },
     "execution_count": 9,
     "metadata": {},
     "output_type": "execute_result"
    }
   ],
   "source": [
    "len(extra_tracker_id), len(extra_order_id), len(tracker_id.intersection(extra_order_id))"
   ]
  },
  {
   "cell_type": "code",
   "execution_count": 10,
   "id": "a500ffb8-5766-47ab-bdee-fa5aaa112e11",
   "metadata": {},
   "outputs": [
    {
     "data": {
      "text/plain": [
       "807604"
      ]
     },
     "execution_count": 10,
     "metadata": {},
     "output_type": "execute_result"
    }
   ],
   "source": [
    "len(tracker_id.intersection(extra_tracker_id))"
   ]
  },
  {
   "cell_type": "markdown",
   "id": "80081178-334f-447d-ba8c-11cf6a477206",
   "metadata": {},
   "source": [
    "- All users in train data are present in extra data"
   ]
  },
  {
   "cell_type": "code",
   "execution_count": 11,
   "id": "fc36fd49-ec6b-43cd-b608-9bbbe0a0061a",
   "metadata": {},
   "outputs": [
    {
     "data": {
      "text/plain": [
       "(1011170, 470347, 470339)"
      ]
     },
     "execution_count": 11,
     "metadata": {},
     "output_type": "execute_result"
    }
   ],
   "source": [
    "users = tracker_id.union(order_id).union(extra_tracker_id).union(extra_order_id)\n",
    "len(users), len(test_id), len(users.intersection(test_id))"
   ]
  },
  {
   "cell_type": "markdown",
   "id": "d5f3cc6b-6688-4fd4-aed9-36a8022cabec",
   "metadata": {},
   "source": [
    "- Almost all test users have some kind of data for history calculation."
   ]
  },
  {
   "cell_type": "code",
   "execution_count": 12,
   "id": "bec7521e-cac2-4a59-8f09-74fd2ab7637e",
   "metadata": {},
   "outputs": [
    {
     "data": {
      "text/plain": [
       "91152      228111\n",
       "26283       65771\n",
       "712094    2697011\n",
       "621545    2243791\n",
       "519262    1731810\n",
       "           ...   \n",
       "432436    1297220\n",
       "539096    1831070\n",
       "263811     660210\n",
       "844413    3359470\n",
       "243862     610280\n",
       "Name: user_id, Length: 1011170, dtype: int32"
      ]
     },
     "execution_count": 12,
     "metadata": {},
     "output_type": "execute_result"
    }
   ],
   "source": [
    "users = pd.Series(list(users), name='user_id').sort_values().sample(frac=1, random_state=SEED)\n",
    "users"
   ]
  },
  {
   "cell_type": "code",
   "execution_count": 13,
   "id": "e1d33d7d-cc10-4af4-bcf6-a84cdbff1e18",
   "metadata": {},
   "outputs": [],
   "source": [
    "sanity_check_perc = 0.01\n",
    "hypothesis_testing_perc = 0.1"
   ]
  },
  {
   "cell_type": "code",
   "execution_count": 14,
   "id": "b8a8af76-0629-4ad2-a1aa-751938fe5584",
   "metadata": {},
   "outputs": [],
   "source": [
    "sanity_users = users.sample(frac=sanity_check_perc, random_state=SEED)\n",
    "sanity_users.to_csv(f'{root}/data/sanity_users.csv', index=False)\n",
    "\n",
    "hypothesis_users = users.sample(frac=hypothesis_testing_perc, random_state=SEED)\n",
    "hypothesis_users.to_csv(f'{root}/data/hypothesis_users.csv', index=False)"
   ]
  },
  {
   "cell_type": "markdown",
   "id": "7d248e44-213a-4775-a450-7aa009790123",
   "metadata": {},
   "source": [
    "# Dates' Interactions Count"
   ]
  },
  {
   "cell_type": "code",
   "execution_count": 15,
   "id": "3fcf33e3-91d1-43e5-ada4-fa5cca691ed4",
   "metadata": {},
   "outputs": [],
   "source": [
    "DEBUG = False\n",
    "\n",
    "if DEBUG:\n",
    "    users = sanity_users\n",
    "else:\n",
    "    users = hypothesis_users\n",
    "\n",
    "tracker_id = tracker_df.filter(pl.col('user_id').is_in(users))\n",
    "order_id = order_df.filter(pl.col('user_id').is_in(users))\n",
    "\n",
    "extra_tracker_id = extra_tracker_df.filter(pl.col('user_id').is_in(users))\n",
    "extra_order_id = extra_order_df.filter(pl.col('user_id').is_in(users))"
   ]
  },
  {
   "cell_type": "code",
   "execution_count": null,
   "id": "ed7f27b3-16d7-49b9-a8f5-3407c8f49644",
   "metadata": {},
   "outputs": [],
   "source": [
    "%%time\n",
    "dates1 = tracker_id.group_by(pl.col('timestamp').dt.strftime('%Y-%m-%d')).agg(pl.len(), pl.lit(1).alias('train')).collect().to_pandas()\n",
    "dates2 = extra_tracker_id.group_by(pl.col('timestamp').dt.strftime('%Y-%m-%d')).agg(pl.len(), pl.lit(0).alias('train')).collect().to_pandas()\n",
    "\n",
    "dates = pd.concat([dates1, dates2], axis=0)\n",
    "dates['timestamp'] = pd.to_datetime(dates['timestamp'])\n",
    "dates = dates[dates['dates'] > '2025-01-01']\n",
    "dates.head()"
   ]
  },
  {
   "cell_type": "code",
   "execution_count": 83,
   "id": "84a8cc68-c8bd-4f7f-b9bc-5d404746f252",
   "metadata": {},
   "outputs": [
    {
     "data": {
      "image/png": "[encoded data removed]",
      "text/plain": [
       "<Figure size 640x480 with 1 Axes>"
      ]
     },
     "metadata": {},
     "output_type": "display_data"
    }
   ],
   "source": [
    "sns.lineplot(data=dates, x='timestamp', y='len', hue='train')\n",
    "sns.despine(top=True, right=True)\n",
    "plt.ylabel('Number of Intractions')\n",
    "plt.show()"
   ]
  },
  {
   "cell_type": "markdown",
   "id": "d21afba0-205d-4e0e-8b82-3e722dd66138",
   "metadata": {},
   "source": [
    "- There are strange cases when Train and Test Trackers data might overlap - they are very rare."
   ]
  },
  {
   "cell_type": "code",
   "execution_count": 7,
   "id": "f4bb2909-d1bc-4417-af24-7b9a34130572",
   "metadata": {},
   "outputs": [
    {
     "data": {
      "text/plain": [
       "<Axes: xlabel='created_timestamp', ylabel='len'>"
      ]
     },
     "execution_count": 7,
     "metadata": {},
     "output_type": "execute_result"
    },
    {
     "data": {
      "image/png": "[encoded data removed]",
      "text/plain": [
       "<Figure size 640x480 with 1 Axes>"
      ]
     },
     "metadata": {},
     "output_type": "display_data"
    }
   ],
   "source": [
    "status = order.group_by(pl.col('created_timestamp').dt.strftime('%Y-%m-%d'), 'last_status').agg(pl.len()).collect().to_pandas()\n",
    "status['created_timestamp'] = pd.to_datetime(status['created_timestamp'])\n",
    "\n",
    "sns.lineplot(data=status, x='created_timestamp', y='len', hue='last_status')"
   ]
  },
  {
   "cell_type": "markdown",
   "id": "d12d6751-86d3-4cc4-a525-ca59e6ad594a",
   "metadata": {},
   "source": [
    "- As close we go to the last date, the more purchases need time for transfer from processed to delivered/canceled\n",
    "- Why there is a strange jump in the middle between old train and test."
   ]
  },
  {
   "cell_type": "markdown",
   "id": "659b9f20-17fb-44c9-b652-50f7b7c69a84",
   "metadata": {},
   "source": [
    "# CV Establishment\n",
    "\n",
    "- Old test data - 1 fold\n",
    "- Additional 4 folds - 2 weeks each (May and June)"
   ]
  },
  {
   "cell_type": "code",
   "execution_count": 85,
   "id": "545c8fde-6db6-4ba0-896d-795dd658bbb2",
   "metadata": {},
   "outputs": [
    {
     "data": {
      "text/html": [
       "<div><style>\n",
       ".dataframe > thead > tr,\n",
       ".dataframe > tbody > tr {\n",
       "  text-align: right;\n",
       "  white-space: pre-wrap;\n",
       "}\n",
       "</style>\n",
       "<small>shape: (1, 1)</small><table border=\"1\" class=\"dataframe\"><thead><tr><th>created_timestamp</th></tr><tr><td>datetime[ns]</td></tr></thead><tbody><tr><td>2025-07-15 23:59:59.050</td></tr></tbody></table></div>"
      ],
      "text/plain": [
       "shape: (1, 1)\n",
       "┌─────────────────────────┐\n",
       "│ created_timestamp       │\n",
       "│ ---                     │\n",
       "│ datetime[ns]            │\n",
       "╞═════════════════════════╡\n",
       "│ 2025-07-15 23:59:59.050 │\n",
       "└─────────────────────────┘"
      ]
     },
     "execution_count": 85,
     "metadata": {},
     "output_type": "execute_result"
    }
   ],
   "source": [
    "order.select(pl.max('created_timestamp')).collect()"
   ]
  },
  {
   "cell_type": "code",
   "execution_count": 86,
   "id": "73d22153-f338-456f-b8bd-c4c2b48183a2",
   "metadata": {},
   "outputs": [],
   "source": [
    "cv_folds = [\n",
    "    (pl.datetime(2025, 7, 1), pl.datetime(2025, 7, 15)),\n",
    "    (pl.datetime(2025, 6, 16), pl.datetime(2025, 6, 30)),\n",
    "    (pl.datetime(2025, 6, 1), pl.datetime(2025, 6, 15))\n",
    "]"
   ]
  },
  {
   "cell_type": "markdown",
   "id": "50b33958-9a08-456c-ac68-49b5bae2a2be",
   "metadata": {},
   "source": [
    "# Model Class"
   ]
  },
  {
   "cell_type": "code",
   "execution_count": 87,
   "id": "93f74493-cac0-4121-8abb-742c848a8835",
   "metadata": {},
   "outputs": [],
   "source": [
    "class BaselineModel():\n",
    "\n",
    "    feature_schema = FeatureSchema(\n",
    "        [\n",
    "            FeatureInfo(\n",
    "                column=\"user_id\",\n",
    "                feature_type=FeatureType.CATEGORICAL,\n",
    "                feature_hint=FeatureHint.QUERY_ID,\n",
    "            ),\n",
    "            FeatureInfo(\n",
    "                column=\"item_id\",\n",
    "                feature_type=FeatureType.CATEGORICAL,\n",
    "                feature_hint=FeatureHint.ITEM_ID,\n",
    "            ),\n",
    "            FeatureInfo(\n",
    "                column=\"rating\",\n",
    "                feature_type=FeatureType.NUMERICAL,\n",
    "                feature_hint=FeatureHint.RATING,\n",
    "            ),\n",
    "            FeatureInfo(\n",
    "                column=\"created_timestamp\",\n",
    "                feature_type=FeatureType.NUMERICAL,\n",
    "                feature_hint=FeatureHint.TIMESTAMP,\n",
    "            )\n",
    "        ]\n",
    "    )\n",
    "\n",
    "    def __init__(self):\n",
    "        pass\n",
    "\n",
    "    def fit(self, order):\n",
    "\n",
    "        self.popular = (\n",
    "            order\n",
    "            .group_by('item_id')\n",
    "            .agg(pl.len().alias('rating'))\n",
    "            .sort('rating', descending=True)\n",
    "            .head(100)\n",
    "            .collect()\n",
    "        )\n",
    "\n",
    "    def predict(self, user_ids):\n",
    "\n",
    "        return user_ids.join(self.popular, how='cross')"
   ]
  },
  {
   "cell_type": "markdown",
   "id": "77f5f014-34b6-4c10-8087-e3c82d8dd096",
   "metadata": {},
   "source": [
    "# CV scoring"
   ]
  },
  {
   "cell_type": "code",
   "execution_count": 90,
   "id": "4f4a6743-2e1d-4c2e-95a5-a21b9399e2b0",
   "metadata": {},
   "outputs": [
    {
     "name": "stderr",
     "output_type": "stream",
     "text": [
      "3it [00:55, 18.41s/it]\n"
     ]
    }
   ],
   "source": [
    "metrics = []\n",
    "\n",
    "for i, (start_dt, end_dt) in tqdm(enumerate(cv_folds)):\n",
    "    \n",
    "    train_tracker = tracker.filter(pl.col('timestamp') < start_dt)\n",
    "    train_order = order.filter(pl.col('created_timestamp') < start_dt)\n",
    "    \n",
    "    test_order = order.filter((pl.col('created_timestamp') >= start_dt) & (pl.col('last_status') != 'canceled_orders')).unique()\n",
    "    test_order = test_order.with_columns(pl.lit(1).alias('rating')).select('user_id', 'item_id', 'rating').collect()\n",
    "\n",
    "    model = BaselineModel()\n",
    "    model.fit(train_order)\n",
    "\n",
    "    recs = model.predict(test_order.select('user_id').unique())\n",
    "\n",
    "    metric = Experiment(\n",
    "        [NDCG(100), HitRate(100)],\n",
    "        test_order,\n",
    "        query_column=\"user_id\",\n",
    "        item_column=\"item_id\",\n",
    "        rating_column=\"rating\"\n",
    "    )\n",
    "\n",
    "    metric.add_result(i, recs)\n",
    "    metrics.append(metric.result)"
   ]
  },
  {
   "cell_type": "code",
   "execution_count": 93,
   "id": "d209d468-3b8a-4a03-8090-60f59c70ee87",
   "metadata": {},
   "outputs": [
    {
     "data": {
      "text/html": [
       "<div>\n",
       "<style scoped>\n",
       "    .dataframe tbody tr th:only-of-type {\n",
       "        vertical-align: middle;\n",
       "    }\n",
       "\n",
       "    .dataframe tbody tr th {\n",
       "        vertical-align: top;\n",
       "    }\n",
       "\n",
       "    .dataframe thead th {\n",
       "        text-align: right;\n",
       "    }\n",
       "</style>\n",
       "<table border=\"1\" class=\"dataframe\">\n",
       "  <thead>\n",
       "    <tr style=\"text-align: right;\">\n",
       "      <th></th>\n",
       "      <th>NDCG@100</th>\n",
       "      <th>HitRate@100</th>\n",
       "    </tr>\n",
       "  </thead>\n",
       "  <tbody>\n",
       "    <tr>\n",
       "      <th>0</th>\n",
       "      <td>0.005204</td>\n",
       "      <td>0.028892</td>\n",
       "    </tr>\n",
       "    <tr>\n",
       "      <th>1</th>\n",
       "      <td>0.005724</td>\n",
       "      <td>0.039800</td>\n",
       "    </tr>\n",
       "    <tr>\n",
       "      <th>2</th>\n",
       "      <td>0.006091</td>\n",
       "      <td>0.046480</td>\n",
       "    </tr>\n",
       "  </tbody>\n",
       "</table>\n",
       "</div>"
      ],
      "text/plain": [
       "   NDCG@100  HitRate@100\n",
       "0  0.005204     0.028892\n",
       "1  0.005724     0.039800\n",
       "2  0.006091     0.046480"
      ]
     },
     "execution_count": 93,
     "metadata": {},
     "output_type": "execute_result"
    }
   ],
   "source": [
    "metrics = pd.concat(metrics, axis=0)\n",
    "metrics"
   ]
  },
  {
   "cell_type": "markdown",
   "id": "2b18e766-5bb4-40b3-949f-ad85a81cb2cc",
   "metadata": {},
   "source": [
    "# Submit"
   ]
  },
  {
   "cell_type": "code",
   "execution_count": 94,
   "id": "50bf2127-13f6-4efc-bd02-4b618361e6e0",
   "metadata": {},
   "outputs": [],
   "source": [
    "model = BaselineModel()\n",
    "model.fit(train_order)"
   ]
  },
  {
   "cell_type": "code",
   "execution_count": 98,
   "id": "96c63a3e-5c91-4670-94b4-abaf1d1064ce",
   "metadata": {},
   "outputs": [],
   "source": [
    "predict = model.predict(test_df.collect())"
   ]
  },
  {
   "cell_type": "code",
   "execution_count": 100,
   "id": "240bba3c-11a0-4546-9a2d-244d19c656e9",
   "metadata": {},
   "outputs": [
    {
     "data": {
      "text/html": [
       "<div><style>\n",
       ".dataframe > thead > tr,\n",
       ".dataframe > tbody > tr {\n",
       "  text-align: right;\n",
       "  white-space: pre-wrap;\n",
       "}\n",
       "</style>\n",
       "<small>shape: (1, 2)</small><table border=\"1\" class=\"dataframe\"><thead><tr><th>len</th><th>count</th></tr><tr><td>u32</td><td>u32</td></tr></thead><tbody><tr><td>100</td><td>470347</td></tr></tbody></table></div>"
      ],
      "text/plain": [
       "shape: (1, 2)\n",
       "┌─────┬────────┐\n",
       "│ len ┆ count  │\n",
       "│ --- ┆ ---    │\n",
       "│ u32 ┆ u32    │\n",
       "╞═════╪════════╡\n",
       "│ 100 ┆ 470347 │\n",
       "└─────┴────────┘"
      ]
     },
     "execution_count": 100,
     "metadata": {},
     "output_type": "execute_result"
    }
   ],
   "source": [
    "predict.group_by('user_id').agg(pl.len()).select('len').to_series().value_counts()"
   ]
  },
  {
   "cell_type": "code",
   "execution_count": 103,
   "id": "b8728769-3700-4da2-afab-063b7e6ed47f",
   "metadata": {},
   "outputs": [
    {
     "name": "stderr",
     "output_type": "stream",
     "text": [
      "/tmp/ipykernel_63539/3939865480.py:10: DeprecationWarning: `str.concat` is deprecated; use `str.join` instead. Note also that the default `delimiter` for `str.join` is an empty string, not a hyphen.\n",
      "  .str.concat(' ')  # Join with space\n"
     ]
    }
   ],
   "source": [
    "result = (\n",
    "    predict\n",
    "    .sort(['user_id', 'rating'], descending=[False, True])  # Sort by user then rating descending\n",
    "    .group_by('user_id')\n",
    "    .agg(\n",
    "        pl.col('item_id')\n",
    "        .head(100)  # Take top 100 items per user\n",
    "        .sort(descending=True)  # Sort items in descending order (optional)\n",
    "        .cast(pl.Utf8)  # Convert to string for joining\n",
    "        .str.concat(' ')  # Join with space\n",
    "        .alias('item_id_1 item_id_2 ... item_id_100')\n",
    "    )\n",
    ")"
   ]
  },
  {
   "cell_type": "code",
   "execution_count": 1,
   "id": "088dc614-6abb-4507-b0ab-6f168b98f584",
   "metadata": {},
   "outputs": [
    {
     "ename": "NameError",
     "evalue": "name 'predict' is not defined",
     "output_type": "error",
     "traceback": [
      "\u001b[0;31m---------------------------------------------------------------------------\u001b[0m",
      "\u001b[0;31mNameError\u001b[0m                                 Traceback (most recent call last)",
      "Cell \u001b[0;32mIn[1], line 1\u001b[0m\n\u001b[0;32m----> 1\u001b[0m \u001b[43mpredict\u001b[49m\n",
      "\u001b[0;31mNameError\u001b[0m: name 'predict' is not defined"
     ]
    }
   ],
   "source": [
    "predict"
   ]
  },
  {
   "cell_type": "code",
   "execution_count": null,
   "id": "f8f1b5aa-792c-4379-bb10-ff3e47a29085",
   "metadata": {},
   "outputs": [],
   "source": []
  }
 ],
 "metadata": {
  "kernelspec": {
   "display_name": "ECup",
   "language": "python",
   "name": "ecup_env"
  },
  "language_info": {
   "codemirror_mode": {
    "name": "ipython",
    "version": 3
   },
   "file_extension": ".py",
   "mimetype": "text/x-python",
   "name": "python",
   "nbconvert_exporter": "python",
   "pygments_lexer": "ipython3",
   "version": "3.10.18"
  }
 },
 "nbformat": 4,
 "nbformat_minor": 5
}
